{
 "cells": [
  {
   "cell_type": "code",
   "execution_count": 1,
   "metadata": {},
   "outputs": [],
   "source": [
    "import os\n",
    "import csv"
   ]
  },
  {
   "cell_type": "code",
   "execution_count": 3,
   "metadata": {},
   "outputs": [],
   "source": [
    "csv_path = os.path.join(\"..\",\"..\",\"..\",\"election_data.csv\")"
   ]
  },
  {
   "cell_type": "code",
   "execution_count": 4,
   "metadata": {},
   "outputs": [],
   "source": [
    "count = 0\n",
    "votes = dict()"
   ]
  },
  {
   "cell_type": "code",
   "execution_count": 5,
   "metadata": {},
   "outputs": [],
   "source": [
    "with open(csv_path) as csv_file:\n",
    "    csv_reader = csv.reader(csv_file)\n",
    "    csv_header = next(csv_reader)\n",
    "    #print(csv_header)\n",
    "    for row in csv_reader:\n",
    "        count+=1\n",
    "        votes[row[2]] = votes.get(row[2],0) + 1"
   ]
  },
  {
   "cell_type": "code",
   "execution_count": 6,
   "metadata": {
    "scrolled": false
   },
   "outputs": [
    {
     "name": "stdout",
     "output_type": "stream",
     "text": [
      "Candidate Khan with 2218231 votes had 63.0% of vote\n",
      "Candidate Correy with 704200 votes had 20.0% of vote\n",
      "Candidate Li with 492940 votes had 14.0% of vote\n",
      "Candidate O'Tooley with 105630 votes had 3.0% of vote\n",
      "total votes 3521001\n",
      "winner Khan\n"
     ]
    }
   ],
   "source": [
    "winvotes = 0\n",
    "for key in votes:\n",
    "    pct = votes[key]/count*100\n",
    "    print(f\"Candidate {key} with {votes[key]} votes had {pct:.1f}% of vote\")\n",
    "    if votes[key] > winvotes:\n",
    "        winvotes = votes[key]\n",
    "        winner = key\n",
    "print(f\"total votes {count}\")\n",
    "print(f\"winner {winner}\")"
   ]
  },
  {
   "cell_type": "code",
   "execution_count": 7,
   "metadata": {},
   "outputs": [],
   "source": [
    "text_path = os.path.join(\"..\", \"election_summ.txt\")\n",
    "text_file = open(text_path,'w')\n",
    "for key in votes:\n",
    "    pct = votes[key]/count*100\n",
    "    text_file.write(f\"Candidate {key} with {votes[key]} votes had {votes[key]/count*100:.1f}% of vote\\n\")\n",
    "text_file.write(f\"total votes {count}\\n\")\n",
    "text_file.write(f\"winner {winner}\\n\")\n",
    "text_file.close()"
   ]
  }
 ],
 "metadata": {
  "kernelspec": {
   "display_name": "Python 3",
   "language": "python",
   "name": "python3"
  },
  "language_info": {
   "codemirror_mode": {
    "name": "ipython",
    "version": 3
   },
   "file_extension": ".py",
   "mimetype": "text/x-python",
   "name": "python",
   "nbconvert_exporter": "python",
   "pygments_lexer": "ipython3",
   "version": "3.6.5"
  }
 },
 "nbformat": 4,
 "nbformat_minor": 2
}
