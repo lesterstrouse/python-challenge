{
 "cells": [
  {
   "cell_type": "code",
   "execution_count": 1,
   "metadata": {},
   "outputs": [],
   "source": [
    "import os\n",
    "import csv"
   ]
  },
  {
   "cell_type": "code",
   "execution_count": 2,
   "metadata": {},
   "outputs": [],
   "source": [
    "count = 0\n",
    "total = 0\n",
    "gincrease = 0\n",
    "gdecrease = 0"
   ]
  },
  {
   "cell_type": "code",
   "execution_count": 4,
   "metadata": {},
   "outputs": [],
   "source": [
    "csv_path = os.path.join(\"..\",\"..\",\"..\", \"budget_data.csv\")"
   ]
  },
  {
   "cell_type": "code",
   "execution_count": 5,
   "metadata": {},
   "outputs": [],
   "source": [
    "with open(csv_path) as csv_file:\n",
    "    csv_reader = csv.reader(csv_file)\n",
    "    csv_header = next(csv_reader)\n",
    "    #print(csv_header)\n",
    "    for row in csv_reader:\n",
    "        count+=1\n",
    "        amt=int(row[1])\n",
    "        total+=amt\n",
    "        if amt > gincrease:\n",
    "            gincrease = amt\n",
    "        elif amt < gdecrease:\n",
    "            gdecrease = amt"
   ]
  },
  {
   "cell_type": "code",
   "execution_count": 6,
   "metadata": {},
   "outputs": [
    {
     "name": "stdout",
     "output_type": "stream",
     "text": [
      "no of months 86\n",
      "total increase/decrease 38382578\n",
      "average increase/decrease 446309.0465116279\n",
      "greatest increase 1170593\n",
      "greatest decrease -1196225\n"
     ]
    }
   ],
   "source": [
    "print(f\"no of months {count}\")\n",
    "print(f\"total increase/decrease {total}\")\n",
    "print(f\"average increase/decrease {total/count}\")\n",
    "print(f\"greatest increase {gincrease}\")\n",
    "print(f\"greatest decrease {gdecrease}\")"
   ]
  }
 ],
 "metadata": {
  "kernelspec": {
   "display_name": "Python 3",
   "language": "python",
   "name": "python3"
  },
  "language_info": {
   "codemirror_mode": {
    "name": "ipython",
    "version": 3
   },
   "file_extension": ".py",
   "mimetype": "text/x-python",
   "name": "python",
   "nbconvert_exporter": "python",
   "pygments_lexer": "ipython3",
   "version": "3.6.5"
  }
 },
 "nbformat": 4,
 "nbformat_minor": 2
}
